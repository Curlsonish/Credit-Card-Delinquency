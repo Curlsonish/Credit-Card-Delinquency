{
 "cells": [
  {
   "cell_type": "code",
   "execution_count": null,
   "id": "05a82bed-1d63-4b7e-9683-fa73fd3acde2",
   "metadata": {},
   "outputs": [],
   "source": [
    "def detect_early_warning(row):\n",
    "    payments = row[payment_cols].values\n",
    "    # Pattern 1: On-time → Late → Missed progression\n",
    "    if (0 in payments[:2]) and (1 in payments[2:4]) and (2 in payments[4:5]):\n",
    "        return 1\n",
    "    # Pattern 2: Increasing frequency of late payments\n",
    "    late_counts = [sum(payments[:i] == 1) for i in range(1,5)]\n",
    "    if late_counts == sorted(late_counts) and late_counts[-1] >= 2:\n",
    "        return 1\n",
    "    # Pattern 3: First missed payment after good history\n",
    "    if (payments[-1] == 2) and (2 not in payments[:-1]):\n",
    "        return 1\n",
    "    return 0\n",
    "\n",
    "dff['Early_Warning'] = dff.apply(detect_early_warning, axis=1)\n",
    "warning_performance = dff.groupby('Early_Warning')['Month_6'].sum()\n",
    "print(\"\\nEarly Warning System Performance:\")\n",
    "print(warning_performance)"
   ]
  }
 ],
 "metadata": {
  "kernelspec": {
   "display_name": "Python [conda env:base] *",
   "language": "python",
   "name": "conda-base-py"
  },
  "language_info": {
   "codemirror_mode": {
    "name": "ipython",
    "version": 3
   },
   "file_extension": ".py",
   "mimetype": "text/x-python",
   "name": "python",
   "nbconvert_exporter": "python",
   "pygments_lexer": "ipython3",
   "version": "3.12.7"
  }
 },
 "nbformat": 4,
 "nbformat_minor": 5
}
