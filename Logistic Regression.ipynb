{
 "cells": [
  {
   "cell_type": "code",
   "execution_count": null,
   "id": "08adb7db-883e-40a1-a5bb-d84460a4c915",
   "metadata": {},
   "outputs": [],
   "source": [
    "# storing the features we will be requiring for prediction in x\n",
    "x = dff[ ['Age', 'Income', 'Credit_Score', 'Credit_Utilization', 'Delinquent_Account', 'Loan_Balance', 'Debt_to_Income_Ratio', \n",
    "          'Account_Tenure', 'Employment_Status_Employed', 'Employment_Status_Self-employed', 'Employment_Status_Unemployed', \n",
    "          'Employment_Status_retired', 'Credit_Card_Type_Business', 'Credit_Card_Type_Gold', 'Credit_Card_Type_Platinum',\n",
    "          'Credit_Card_Type_Standard', 'Credit_Card_Type_Student', 'Location_Chicago', 'Location_Houston', 'Location_Los Angeles', \n",
    "          'Location_New York', 'Location_Phoenix','Recent_Delinquency','Severe_Delinquency']]\n",
    "y = dff['Month_6'].replace(2,1)# We will be taking month six payment as our target prediction to see\n",
    "#if the customer will pay on time or or will be late/miss\n",
    "\n",
    "x_train,x_test,y_train,y_test = train_test_split(x,y,test_size = 0.2,random_state = 42, stratify=y)#splitting the data into two parts\n",
    "#one part is going to be used to train the model and the other one to test the model. we use 80% of the data to train the model.\n",
    "#Before we go for the model we need to scale the features which is very much required for a logistic regression\n",
    "scaler = StandardScaler()\n",
    "x_train_scaled = scaler.fit_transform(x_train)\n",
    "x_test_scaled = scaler.transform(x_test)\n",
    "\n",
    "model = LogisticRegression(max_iter = 10000)\n",
    "model.fit(x_train_scaled,y_train.values.ravel())\n",
    "y_pred = model.predict(x_test_scaled)\n",
    "y_proba = model.predict_proba(x_test_scaled)\n",
    "y_proba.ndim\n",
    "\n",
    "metrics = { \n",
    "    'Accuracy': accuracy_score(y_test,y_pred),\n",
    "       \"Precision\": precision_score(y_test, y_pred),\n",
    "    \"Recall\": recall_score(y_test, y_pred),\n",
    "    \"F1 Score\": f1_score(y_test, y_pred)}\n",
    "    \n",
    "for name, value in metrics.items():\n",
    "    print(f\"{name}: {value:.3f}\")\n",
    "\n",
    "cm = confusion_matrix(y_test,y_pred)\n",
    "print(cm)"
   ]
  },
  {
   "cell_type": "markdown",
   "id": "fb13f6e0-1f48-42db-ba0c-f876f8b72169",
   "metadata": {},
   "source": [
    "Accuracy: 0.667\n",
    "Precision: 0.673\n",
    "Recall: 0.985\n",
    "F1 Score: 0.800\n",
    "  TP FP\n",
    "[[ 0 32]\n",
    "  FN TN\n",
    " [ 1 66]]\n"
   ]
  }
 ],
 "metadata": {
  "kernelspec": {
   "display_name": "Python [conda env:base] *",
   "language": "python",
   "name": "conda-base-py"
  },
  "language_info": {
   "codemirror_mode": {
    "name": "ipython",
    "version": 3
   },
   "file_extension": ".py",
   "mimetype": "text/x-python",
   "name": "python",
   "nbconvert_exporter": "python",
   "pygments_lexer": "ipython3",
   "version": "3.12.7"
  }
 },
 "nbformat": 4,
 "nbformat_minor": 5
}
